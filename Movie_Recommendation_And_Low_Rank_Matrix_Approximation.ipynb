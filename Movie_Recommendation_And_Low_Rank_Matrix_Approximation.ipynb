{
  "cells": [
    {
      "cell_type": "markdown",
      "metadata": {
        "id": "xqiGsdfL3EOF"
      },
      "source": [
        "#Low Rank Matrix Approximation\n"
      ]
    },
    {
      "cell_type": "markdown",
      "metadata": {
        "id": "xb5qMLcC6JDl"
      },
      "source": [
        "## Overview\n",
        "\n",
        "We will be implementing and applying low-rank approximation of matrices, which is useful for finding hidden relationships that might not be apparent from high-dimensional data.\n",
        "\n",
        "<ins>Format of this notebook:<ins>\n",
        "1. Implement Low Rank Matrix Approximation (LORMA)\n",
        "2. Perform movie recommendation using LORMA\n",
        "    * For this part, I will use the `ratings.csv` and `movies.csv` files"
      ]
    },
    {
      "cell_type": "markdown",
      "metadata": {
        "id": "Ty5sHbCHCQtT"
      },
      "source": [
        "Implement average squared loss function (8 pts)"
      ]
    },
    {
      "cell_type": "code",
      "execution_count": null,
      "metadata": {
        "colab": {
          "base_uri": "https://localhost:8080/"
        },
        "id": "a6Kbb5Ob3EOM",
        "outputId": "893f991e-d1da-41be-e4f2-1a78679662fd"
      },
      "outputs": [
        {
          "name": "stdout",
          "output_type": "stream",
          "text": [
            "Function loss() is working fine!\n"
          ]
        }
      ],
      "source": [
        "import matplotlib.pyplot as plt\n",
        "import numpy as np\n",
        "\n",
        "# Given M, M_approx, O, return the average squared loss over the observed entries.\n",
        "#\n",
        "# parameters\n",
        "# M:        m x n 2-D numpy array\n",
        "#           containing the observed entries (with arbitrary values in the unobserved entries)\n",
        "#\n",
        "# M_approx: m x n 2-D numpy array\n",
        "#           representing the low-dimensional approximation\n",
        "#\n",
        "# O:        m x n 2-D numpy array\n",
        "#           containing 0 if the entry is unobserved and 1 if the entry is observed in M.\n",
        "#           O tells you which entries in M were observed (corresponds to \\Omega in the equations above)\n",
        "#\n",
        "# output\n",
        "# loss:     average of squared loss over observed entries\n",
        "\n",
        "def loss(M, M_approx, O):\n",
        "    ### ACT1: add your code here\n",
        "    M_copy = np.multiply(M,O)\n",
        "    M_approx_copy = np.multiply(M_approx,O)\n",
        "    omega_size = np.count_nonzero(O)\n",
        "    residual_matrix = M_copy - M_approx_copy\n",
        "    residual_matrix_sq = np.square(residual_matrix)\n",
        "    summation = np.sum(residual_matrix_sq)\n",
        "    return summation/omega_size\n",
        "\n",
        "# Testing\n",
        "def check_loss():\n",
        "    M = np.array([[2, 4, 1], [1, -3, 1]])\n",
        "    M_approx = np.zeros((2, 3))\n",
        "    O = np.array([[1, 0, 0], [0, 1, 1]])\n",
        "    answer = 14 / 3\n",
        "    output = loss(M, M_approx, O)\n",
        "    assert(np.isclose(answer, output))\n",
        "    print(\"Function {} is working fine!\".format('loss()'))\n",
        "\n",
        "check_loss()"
      ]
    },
    {
      "cell_type": "markdown",
      "metadata": {
        "id": "648Z_nkeCaG2"
      },
      "source": [
        "Return the normalized version of M (8 pts)\n"
      ]
    },
    {
      "cell_type": "code",
      "execution_count": null,
      "metadata": {
        "colab": {
          "base_uri": "https://localhost:8080/"
        },
        "id": "xykP9YUf3EON",
        "outputId": "c3d9d404-0da7-4a70-cb34-4a2c39b96f29"
      },
      "outputs": [
        {
          "name": "stdout",
          "output_type": "stream",
          "text": [
            "Function get_normalized_matrix() is working fine!\n"
          ]
        }
      ],
      "source": [
        "# Given M, O, return the normalized version of M\n",
        "#\n",
        "# parameters\n",
        "# M:        m x n 2-D numpy array\n",
        "#           containing the observed entries (with arbitrary values in the unobserved entries)\n",
        "#\n",
        "# O:        m x n 2-D numpy array\n",
        "#           containing 0 if the entry is unobserved and 1 if the entry is observed in M.\n",
        "#           O tells you which entries in M were observed (corresponds to \\Omega in the equations above)\n",
        "#\n",
        "# output\n",
        "# M:        m x n 2-D numpy array\n",
        "#           normalized copy of the input matrix M\n",
        "\n",
        "def get_normalized_matrix(M, O):\n",
        "\n",
        "    M_copy = np.multiply(M,O)\n",
        "    summation = np.sum(M_copy)\n",
        "    size = np.count_nonzero(M_copy);\n",
        "    mean = summation / size\n",
        "    mean_matrix = O * mean\n",
        "    residual = M_copy - mean_matrix\n",
        "    var = np.square(residual)\n",
        "    var = np.sum(var)/size\n",
        "    stddev = np.sqrt(var)\n",
        "    M_normalized = M - mean\n",
        "    M_normalized = M_normalized/stddev\n",
        "    return M_normalized\n",
        "\n",
        "\n",
        "\n",
        "\n",
        "# Testing\n",
        "def check_normalization():\n",
        "    M = np.random.rand(10, 3)\n",
        "    O = (np.random.rand(10, 3) > 0.5) + 0\n",
        "    Mn = get_normalized_matrix(M, O)\n",
        "    assert(abs(np.sum(M * O)) > 1e-6)\n",
        "    assert(abs(np.sum(Mn * O)) < 1e-6)\n",
        "    assert(abs(np.sum(Mn**2 * O) / np.sum(O) - 1) < 1e-6)\n",
        "    print(\"Function {} is working fine!\".format('get_normalized_matrix()'))\n",
        "\n",
        "check_normalization()"
      ]
    },
    {
      "cell_type": "markdown",
      "metadata": {
        "id": "9mP-RffhCjIf"
      },
      "source": [
        "Implement LORMA's prediction (3 pts)"
      ]
    },
    {
      "cell_type": "code",
      "execution_count": null,
      "metadata": {
        "id": "ZsARTYV_3EOO"
      },
      "outputs": [],
      "source": [
        "# Given A, B, the low-rank matrices, calculate and return M_approx (M hat above)\n",
        "#\n",
        "# parameters\n",
        "# A:        m x k 2-D numpy array\n",
        "# B:        k x n 2-D numpy array\n",
        "#\n",
        "# output\n",
        "# M_approx: m x n 2-D numpy array\n",
        "def lorma(A, B):\n",
        "    return A @ B"
      ]
    },
    {
      "cell_type": "markdown",
      "metadata": {
        "id": "c4X_L-TrCr-3"
      },
      "source": [
        "#### ACT4: Implement LORMA gradient (10 pts)"
      ]
    },
    {
      "cell_type": "code",
      "execution_count": null,
      "metadata": {
        "id": "eOaQP_A93EOP"
      },
      "outputs": [],
      "source": [
        "# Given M, O, A, B return dL/dA, dL/dB.\n",
        "#\n",
        "# parameters\n",
        "# M:        m x n 2-D numpy array\n",
        "#           containing the observed entries (with arbitrary values in the unobserved entries)\n",
        "#\n",
        "# O:        m x n 2-D numpy array\n",
        "#           containing 0 if the entry is unobserved and 1 if the entry is observed in M.\n",
        "#           O tells you which entries in M were observed (corresponds to \\Omega in the equations above)\n",
        "#\n",
        "# A:        m x k 2-D numpy array\n",
        "# B:        k x n 2-D numpy array\n",
        "#\n",
        "# output\n",
        "# dL/dA:    m x k 2-D numpy array\n",
        "# dL/dB:    k x n 2-D numpy array\n",
        "\n",
        "def lorma_grad(M, O, A, B):\n",
        "\n",
        "    M_approx = lorma(A,B)\n",
        "    M_approx_copy = np.multiply(M_approx,O)\n",
        "    M_copy = np.multiply(M,O)\n",
        "    size = np.count_nonzero(M_approx_copy);\n",
        "    dM = 2*(M_approx_copy-M_copy)/size\n",
        "    dA = dM @ np.transpose(B)\n",
        "    dB = np.transpose(A) @ dM\n",
        "\n",
        "\n",
        "    return dA, dB"
      ]
    },
    {
      "cell_type": "markdown",
      "metadata": {
        "id": "JMFivptcC0NO"
      },
      "source": [
        "#### ACT5: Implement LORMA initialization (8 pts)"
      ]
    },
    {
      "cell_type": "code",
      "execution_count": null,
      "metadata": {
        "colab": {
          "base_uri": "https://localhost:8080/"
        },
        "id": "6GB6Kidl3EOQ",
        "outputId": "463db0d4-64f0-45eb-8d56-e987dba88c7e"
      },
      "outputs": [
        {
          "name": "stdout",
          "output_type": "stream",
          "text": [
            "Function lorma_init() is working fine!\n"
          ]
        }
      ],
      "source": [
        "# Given m, n, k, initialize and normalize A, B as per the guideline above\n",
        "#\n",
        "# parameters\n",
        "# m, n, k:  shapes for A, B\n",
        "#\n",
        "# output\n",
        "# A:        m x k 2-D numpy array\n",
        "# B:        k x n 2-D numpy array\n",
        "#\n",
        "\n",
        "def lorma_init(m, n, k):\n",
        "    A = np.random.standard_normal((m,k))\n",
        "    B = np.random.standard_normal((k,n))\n",
        "    A = np.multiply(A,1/np.linalg.norm(A,axis=1,keepdims=True))\n",
        "    B = np.multiply(1/ np.linalg.norm(B,axis=0), B)\n",
        "    return A, B\n",
        "\n",
        "# Testing\n",
        "def check_lorma_init():\n",
        "    A, B = lorma_init(10, 7, 3)\n",
        "    assert(np.linalg.norm(np.diag(A @ A.T) - np.ones(10), 1) < 1e-6)\n",
        "    assert(np.linalg.norm(np.diag(B.T @ B) - np.ones(7), 1) < 1e-6)\n",
        "    print(\"Function {} is working fine!\".format('lorma_init()'))\n",
        "    return\n",
        "\n",
        "check_lorma_init()\n",
        "\n"
      ]
    },
    {
      "cell_type": "markdown",
      "metadata": {
        "id": "Zf0xWFUCVKEF"
      },
      "source": [
        "\n",
        "Finally, it is time to use gradient descent (GD) to learn a LORMA model\n",
        "\n"
      ]
    },
    {
      "cell_type": "markdown",
      "metadata": {
        "id": "Ra4BzlENC7Zl"
      },
      "source": [
        "Implement GD for LORMA model (13 pts)"
      ]
    },
    {
      "cell_type": "code",
      "execution_count": null,
      "metadata": {
        "id": "xUj1YKCB3EOR"
      },
      "outputs": [],
      "source": [
        "# Given M, O, params, run gradient descent to compute the low-dimensional\n",
        "# approximation A, B and losses, the list of approximation errors\n",
        "#\n",
        "# parameters\n",
        "# M:        m x n 2-D numpy array\n",
        "#           containing the observed entries (with arbitrary values in the unobserved entries)\n",
        "#\n",
        "# O:        m x n 2-D numpy array\n",
        "#           containing 0 if the entry is unobserved and 1 if the entry is observed in M.\n",
        "#           O tells you which entries in M were observed (corresponds to \\Omega in the equations above)\n",
        "#\n",
        "# params:   tuple of 3 parameters (k, num_epochs, etas)\n",
        "#.          k is the rank of your LORMA model\n",
        "#           num_epochs is the number of epochs to run gradient descent\n",
        "#           etas is a list of floats, with the learning rate for each epoch\n",
        "#           len(etas) = num_epochs\n",
        "#\n",
        "# output\n",
        "# A:        m x k 2-D numpy array\n",
        "# B:        k x n 2-D numpy array\n",
        "# losses:   list of approximation errors evaluated at every 10 epochs\n",
        "def lorma_learn(M, O, params):\n",
        "    k, num_epochs, etas = params\n",
        "    M_normalized = get_normalized_matrix(M,O)\n",
        "    m, n = M.shape\n",
        "    A, B = lorma_init(m,n,k)\n",
        "    M_approx = lorma(A,B)\n",
        "    losses = []\n",
        "    losses.append(loss(M_normalized,M_approx,O))\n",
        "    for e in range(num_epochs):\n",
        "\n",
        "        A = A - np.multiply(etas[e],lorma_grad(M_normalized,O,A,B)[0])\n",
        "        B = B - np.multiply(etas[e], lorma_grad(M_normalized,O,A,B)[1])\n",
        "\n",
        "        if (e % 10 == 0) :\n",
        "            M_approx = lorma(A,B)\n",
        "            epoch_loss = loss(M_normalized,M_approx,O)\n",
        "            losses.append(epoch_loss)\n",
        "            print('Epoch', e, ':',epoch_loss.round(4))\n",
        "\n",
        "    return A, B, losses"
      ]
    },
    {
      "cell_type": "code",
      "execution_count": null,
      "metadata": {
        "colab": {
          "base_uri": "https://localhost:8080/",
          "height": 609
        },
        "id": "xxzhMGRT3EOR",
        "outputId": "ade371d8-2688-4417-eeb8-5705e0f64837"
      },
      "outputs": [
        {
          "name": "stdout",
          "output_type": "stream",
          "text": [
            "Epoch 0 : 1.1421\n",
            "Epoch 10 : 0.9922\n",
            "Epoch 20 : 0.8523\n",
            "Epoch 30 : 0.6799\n",
            "Epoch 40 : 0.484\n",
            "Epoch 50 : 0.3114\n",
            "Epoch 60 : 0.191\n",
            "Epoch 70 : 0.1168\n",
            "Epoch 80 : 0.0733\n",
            "Epoch 90 : 0.0482\n"
          ]
        },
        {
          "data": {
            "image/png": "[encoded data removed]",
            "text/plain": [
              "<Figure size 640x480 with 1 Axes>"
            ]
          },
          "metadata": {},
          "output_type": "display_data"
        }
      ],
      "source": [
        "m, n, k = 100, 40, 5\n",
        "rand_seed = 10\n",
        "np.random.seed(rand_seed)\n",
        "\n",
        "def check_lorma_learn():\n",
        "    from numpy.random import binomial, randn, uniform\n",
        "    mockA, mockB = uniform(1, 2, (m, k)), uniform(-2, -1, (k, n))\n",
        "    M = mockA @ mockB + 0.01 * np.random.randn(m, n)\n",
        "    O = binomial(1, 0.5, size=M.shape)\n",
        "    num_epochs = 100\n",
        "    etas = 2.0 * np.ones(num_epochs)\n",
        "    params = k, num_epochs, etas\n",
        "    A, B, losses = lorma_learn(M, O, params)\n",
        "    plt.plot(losses, '-o')\n",
        "    return M, A, B\n",
        "\n",
        "M, A, B = check_lorma_learn()"
      ]
    },
    {
      "cell_type": "markdown",
      "metadata": {
        "id": "6izUxmor3EOR"
      },
      "source": [
        "Visualizing the data matrix and it low-rank approximation\n",
        "\n",
        "For reference let us also visualize a random matrix from the same distribution used for initialization."
      ]
    },
    {
      "cell_type": "code",
      "execution_count": null,
      "metadata": {
        "colab": {
          "base_uri": "https://localhost:8080/",
          "height": 629
        },
        "id": "eZRAlJSt3EOS",
        "outputId": "73347842-6fc4-4710-acd8-3822bdd942bb"
      },
      "outputs": [
        {
          "data": {
            "image/png": "[encoded data removed]",
            "text/plain": [
              "<Figure size 1000x6000 with 3 Axes>"
            ]
          },
          "metadata": {},
          "output_type": "display_data"
        }
      ],
      "source": [
        "def show_mat(X, str, ind):\n",
        "    plt.subplot(1,3,ind)\n",
        "    plt.imshow(X, cmap='hot')\n",
        "    plt.axis('off')\n",
        "    plt.title(str)\n",
        "\n",
        "Ar, Br = lorma_init(m, n, k)\n",
        "fig = plt.figure(figsize=(10,60))\n",
        "show_mat(M, 'Original Matrix', 1)\n",
        "show_mat(lorma(Ar, Br), 'Initial Approximation', 2)\n",
        "show_mat(lorma(A, B), 'Low Rank Approximation', 3)"
      ]
    },
    {
      "cell_type": "markdown",
      "metadata": {
        "id": "gF3gm5_v3EOS"
      },
      "source": [
        "**Part 2: Movie Recommendation**\n",
        "   \n",
        "We will be using a smaller dataset called [MovieLens](https://grouplens.org/datasets/movielens/) and will be using the [pandas](https://pandas.pydata.org/) library (specifically [pandas.DataFrame](https://pandas.pydata.org/docs/reference/api/pandas.DataFrame.html)) to work with the dataset.\n"
      ]
    },
    {
      "cell_type": "markdown",
      "metadata": {
        "id": "dLZawT2hmbxV"
      },
      "source": [
        "Download the MovieLens dataset\n",
        "\n",
        "Credits: [MovieLens GitHub](https://github.com/khanhnamle1994/movielens/blob/master/ratings.csv)"
      ]
    },
    {
      "cell_type": "code",
      "execution_count": null,
      "metadata": {
        "colab": {
          "base_uri": "https://localhost:8080/",
          "height": 206
        },
        "id": "RfDXPJ_33EOS",
        "outputId": "6097cde5-e2d4-4bd0-ec97-d0959da676bf"
      },
      "outputs": [
        {
          "data": {
            "text/html": [
              "<div>\n",
              "<style scoped>\n",
              "    .dataframe tbody tr th:only-of-type {\n",
              "        vertical-align: middle;\n",
              "    }\n",
              "\n",
              "    .dataframe tbody tr th {\n",
              "        vertical-align: top;\n",
              "    }\n",
              "\n",
              "    .dataframe thead th {\n",
              "        text-align: right;\n",
              "    }\n",
              "</style>\n",
              "<table border=\"1\" class=\"dataframe\">\n",
              "  <thead>\n",
              "    <tr style=\"text-align: right;\">\n",
              "      <th></th>\n",
              "      <th>userId</th>\n",
              "      <th>movieId</th>\n",
              "      <th>rating</th>\n",
              "      <th>timestamp</th>\n",
              "    </tr>\n",
              "  </thead>\n",
              "  <tbody>\n",
              "    <tr>\n",
              "      <th>0</th>\n",
              "      <td>0</td>\n",
              "      <td>0</td>\n",
              "      <td>4.0</td>\n",
              "      <td>964982703</td>\n",
              "    </tr>\n",
              "    <tr>\n",
              "      <th>1</th>\n",
              "      <td>0</td>\n",
              "      <td>2</td>\n",
              "      <td>4.0</td>\n",
              "      <td>964981247</td>\n",
              "    </tr>\n",
              "    <tr>\n",
              "      <th>2</th>\n",
              "      <td>0</td>\n",
              "      <td>5</td>\n",
              "      <td>4.0</td>\n",
              "      <td>964982224</td>\n",
              "    </tr>\n",
              "    <tr>\n",
              "      <th>3</th>\n",
              "      <td>0</td>\n",
              "      <td>46</td>\n",
              "      <td>5.0</td>\n",
              "      <td>964983815</td>\n",
              "    </tr>\n",
              "    <tr>\n",
              "      <th>4</th>\n",
              "      <td>0</td>\n",
              "      <td>49</td>\n",
              "      <td>5.0</td>\n",
              "      <td>964982931</td>\n",
              "    </tr>\n",
              "  </tbody>\n",
              "</table>\n",
              "</div>"
            ],
            "text/plain": [
              "   userId  movieId  rating  timestamp\n",
              "0       0        0     4.0  964982703\n",
              "1       0        2     4.0  964981247\n",
              "2       0        5     4.0  964982224\n",
              "3       0       46     5.0  964983815\n",
              "4       0       49     5.0  964982931"
            ]
          },
          "execution_count": 69,
          "metadata": {},
          "output_type": "execute_result"
        }
      ],
      "source": [
        "import pandas as pd\n",
        "\n",
        "# Load the MovieLens dataset into a pandas dataframe (hint: use pd.read_csv) and display the top 5 rows of the dataset\n",
        "ratings_path = 'ratings.csv'\n",
        "ratings_df = pd.read_csv(ratings_path)# loads the dataset as a Pandas dataframe\n",
        "ratings_df.head(5)# displays first 5 rows of dataframe\n"
      ]
    },
    {
      "cell_type": "markdown",
      "metadata": {
        "id": "4L6OPwHmtrr7"
      },
      "source": [
        "Convert DataFrame to matrix\n",
        " Convert the dataframe into a matrix where the rows (i.e. index) are users, the columns are movies, and the values are ratings.\n"
      ]
    },
    {
      "cell_type": "code",
      "execution_count": null,
      "metadata": {
        "colab": {
          "base_uri": "https://localhost:8080/",
          "height": 298
        },
        "id": "dZ7Wtq-ctpIs",
        "outputId": "eecad7ac-5dbd-463d-cd76-22a8b85ac321"
      },
      "outputs": [
        {
          "data": {
            "text/html": [
              "<div>\n",
              "<style scoped>\n",
              "    .dataframe tbody tr th:only-of-type {\n",
              "        vertical-align: middle;\n",
              "    }\n",
              "\n",
              "    .dataframe tbody tr th {\n",
              "        vertical-align: top;\n",
              "    }\n",
              "\n",
              "    .dataframe thead th {\n",
              "        text-align: right;\n",
              "    }\n",
              "</style>\n",
              "<table border=\"1\" class=\"dataframe\">\n",
              "  <thead>\n",
              "    <tr style=\"text-align: right;\">\n",
              "      <th>movieId</th>\n",
              "      <th>0</th>\n",
              "      <th>1</th>\n",
              "      <th>2</th>\n",
              "      <th>3</th>\n",
              "      <th>4</th>\n",
              "      <th>5</th>\n",
              "      <th>6</th>\n",
              "      <th>7</th>\n",
              "      <th>8</th>\n",
              "      <th>9</th>\n",
              "      <th>...</th>\n",
              "      <th>193564</th>\n",
              "      <th>193566</th>\n",
              "      <th>193570</th>\n",
              "      <th>193572</th>\n",
              "      <th>193578</th>\n",
              "      <th>193580</th>\n",
              "      <th>193582</th>\n",
              "      <th>193584</th>\n",
              "      <th>193586</th>\n",
              "      <th>193608</th>\n",
              "    </tr>\n",
              "    <tr>\n",
              "      <th>userId</th>\n",
              "      <th></th>\n",
              "      <th></th>\n",
              "      <th></th>\n",
              "      <th></th>\n",
              "      <th></th>\n",
              "      <th></th>\n",
              "      <th></th>\n",
              "      <th></th>\n",
              "      <th></th>\n",
              "      <th></th>\n",
              "      <th></th>\n",
              "      <th></th>\n",
              "      <th></th>\n",
              "      <th></th>\n",
              "      <th></th>\n",
              "      <th></th>\n",
              "      <th></th>\n",
              "      <th></th>\n",
              "      <th></th>\n",
              "      <th></th>\n",
              "      <th></th>\n",
              "    </tr>\n",
              "  </thead>\n",
              "  <tbody>\n",
              "    <tr>\n",
              "      <th>0</th>\n",
              "      <td>4.0</td>\n",
              "      <td>NaN</td>\n",
              "      <td>4.0</td>\n",
              "      <td>NaN</td>\n",
              "      <td>NaN</td>\n",
              "      <td>4.0</td>\n",
              "      <td>NaN</td>\n",
              "      <td>NaN</td>\n",
              "      <td>NaN</td>\n",
              "      <td>NaN</td>\n",
              "      <td>...</td>\n",
              "      <td>NaN</td>\n",
              "      <td>NaN</td>\n",
              "      <td>NaN</td>\n",
              "      <td>NaN</td>\n",
              "      <td>NaN</td>\n",
              "      <td>NaN</td>\n",
              "      <td>NaN</td>\n",
              "      <td>NaN</td>\n",
              "      <td>NaN</td>\n",
              "      <td>NaN</td>\n",
              "    </tr>\n",
              "    <tr>\n",
              "      <th>1</th>\n",
              "      <td>NaN</td>\n",
              "      <td>NaN</td>\n",
              "      <td>NaN</td>\n",
              "      <td>NaN</td>\n",
              "      <td>NaN</td>\n",
              "      <td>NaN</td>\n",
              "      <td>NaN</td>\n",
              "      <td>NaN</td>\n",
              "      <td>NaN</td>\n",
              "      <td>NaN</td>\n",
              "      <td>...</td>\n",
              "      <td>NaN</td>\n",
              "      <td>NaN</td>\n",
              "      <td>NaN</td>\n",
              "      <td>NaN</td>\n",
              "      <td>NaN</td>\n",
              "      <td>NaN</td>\n",
              "      <td>NaN</td>\n",
              "      <td>NaN</td>\n",
              "      <td>NaN</td>\n",
              "      <td>NaN</td>\n",
              "    </tr>\n",
              "    <tr>\n",
              "      <th>2</th>\n",
              "      <td>NaN</td>\n",
              "      <td>NaN</td>\n",
              "      <td>NaN</td>\n",
              "      <td>NaN</td>\n",
              "      <td>NaN</td>\n",
              "      <td>NaN</td>\n",
              "      <td>NaN</td>\n",
              "      <td>NaN</td>\n",
              "      <td>NaN</td>\n",
              "      <td>NaN</td>\n",
              "      <td>...</td>\n",
              "      <td>NaN</td>\n",
              "      <td>NaN</td>\n",
              "      <td>NaN</td>\n",
              "      <td>NaN</td>\n",
              "      <td>NaN</td>\n",
              "      <td>NaN</td>\n",
              "      <td>NaN</td>\n",
              "      <td>NaN</td>\n",
              "      <td>NaN</td>\n",
              "      <td>NaN</td>\n",
              "    </tr>\n",
              "    <tr>\n",
              "      <th>3</th>\n",
              "      <td>NaN</td>\n",
              "      <td>NaN</td>\n",
              "      <td>NaN</td>\n",
              "      <td>NaN</td>\n",
              "      <td>NaN</td>\n",
              "      <td>NaN</td>\n",
              "      <td>NaN</td>\n",
              "      <td>NaN</td>\n",
              "      <td>NaN</td>\n",
              "      <td>NaN</td>\n",
              "      <td>...</td>\n",
              "      <td>NaN</td>\n",
              "      <td>NaN</td>\n",
              "      <td>NaN</td>\n",
              "      <td>NaN</td>\n",
              "      <td>NaN</td>\n",
              "      <td>NaN</td>\n",
              "      <td>NaN</td>\n",
              "      <td>NaN</td>\n",
              "      <td>NaN</td>\n",
              "      <td>NaN</td>\n",
              "    </tr>\n",
              "    <tr>\n",
              "      <th>4</th>\n",
              "      <td>4.0</td>\n",
              "      <td>NaN</td>\n",
              "      <td>NaN</td>\n",
              "      <td>NaN</td>\n",
              "      <td>NaN</td>\n",
              "      <td>NaN</td>\n",
              "      <td>NaN</td>\n",
              "      <td>NaN</td>\n",
              "      <td>NaN</td>\n",
              "      <td>NaN</td>\n",
              "      <td>...</td>\n",
              "      <td>NaN</td>\n",
              "      <td>NaN</td>\n",
              "      <td>NaN</td>\n",
              "      <td>NaN</td>\n",
              "      <td>NaN</td>\n",
              "      <td>NaN</td>\n",
              "      <td>NaN</td>\n",
              "      <td>NaN</td>\n",
              "      <td>NaN</td>\n",
              "      <td>NaN</td>\n",
              "    </tr>\n",
              "  </tbody>\n",
              "</table>\n",
              "<p>5 rows × 9724 columns</p>\n",
              "</div>"
            ],
            "text/plain": [
              "movieId  0       1       2       3       4       5       6       7       \\\n",
              "userId                                                                    \n",
              "0           4.0     NaN     4.0     NaN     NaN     4.0     NaN     NaN   \n",
              "1           NaN     NaN     NaN     NaN     NaN     NaN     NaN     NaN   \n",
              "2           NaN     NaN     NaN     NaN     NaN     NaN     NaN     NaN   \n",
              "3           NaN     NaN     NaN     NaN     NaN     NaN     NaN     NaN   \n",
              "4           4.0     NaN     NaN     NaN     NaN     NaN     NaN     NaN   \n",
              "\n",
              "movieId  8       9       ...  193564  193566  193570  193572  193578  193580  \\\n",
              "userId                   ...                                                   \n",
              "0           NaN     NaN  ...     NaN     NaN     NaN     NaN     NaN     NaN   \n",
              "1           NaN     NaN  ...     NaN     NaN     NaN     NaN     NaN     NaN   \n",
              "2           NaN     NaN  ...     NaN     NaN     NaN     NaN     NaN     NaN   \n",
              "3           NaN     NaN  ...     NaN     NaN     NaN     NaN     NaN     NaN   \n",
              "4           NaN     NaN  ...     NaN     NaN     NaN     NaN     NaN     NaN   \n",
              "\n",
              "movieId  193582  193584  193586  193608  \n",
              "userId                                   \n",
              "0           NaN     NaN     NaN     NaN  \n",
              "1           NaN     NaN     NaN     NaN  \n",
              "2           NaN     NaN     NaN     NaN  \n",
              "3           NaN     NaN     NaN     NaN  \n",
              "4           NaN     NaN     NaN     NaN  \n",
              "\n",
              "[5 rows x 9724 columns]"
            ]
          },
          "execution_count": 70,
          "metadata": {},
          "output_type": "execute_result"
        }
      ],
      "source": [
        "ratings_matrix_df = pd.DataFrame.pivot(ratings_df, index = 'userId', columns = 'movieId', values = 'rating')# converts dataframe to matrix form\n",
        "ratings_matrix_df.head(5) # displays first 5 rows of matrix_df"
      ]
    },
    {
      "cell_type": "code",
      "execution_count": null,
      "metadata": {
        "colab": {
          "base_uri": "https://localhost:8080/"
        },
        "id": "dKS9vApCvBlM",
        "outputId": "28732650-5be6-4b78-c80c-268890b19f2d"
      },
      "outputs": [
        {
          "data": {
            "text/plain": [
              "array([[ 4. , -1. ,  4. , ..., -1. , -1. , -1. ],\n",
              "       [-1. , -1. , -1. , ..., -1. , -1. , -1. ],\n",
              "       [-1. , -1. , -1. , ..., -1. , -1. , -1. ],\n",
              "       ...,\n",
              "       [ 2.5,  2. ,  2. , ..., -1. , -1. , -1. ],\n",
              "       [ 3. , -1. , -1. , ..., -1. , -1. , -1. ],\n",
              "       [ 5. , -1. , -1. , ..., -1. , -1. , -1. ]], shape=(610, 9724))"
            ]
          },
          "metadata": {},
          "output_type": "display_data"
        }
      ],
      "source": [
        "missing_value = -1\n",
        "\n",
        "ratings_matrix_processed = ratings_matrix_df.fillna(-1).to_numpy() ### your code here  # imputes NaN with -1\n",
        "display(ratings_matrix_processed)# displays the full numpy as output (Note: intermediate values will be truncated with ... by default)"
      ]
    },
    {
      "cell_type": "code",
      "execution_count": null,
      "metadata": {
        "colab": {
          "base_uri": "https://localhost:8080/"
        },
        "id": "puBIfvD8vDNp",
        "outputId": "276b8dab-7098-4d77-d4bd-83310612289d"
      },
      "outputs": [
        {
          "name": "stdout",
          "output_type": "stream",
          "text": [
            "Matrix passes basic data processing checks.\n"
          ]
        }
      ],
      "source": [
        "# check data processing step\n",
        "def check_data_processing(M):\n",
        "  assert(np.sum(M == -1) == 5830804)\n",
        "  assert(M.shape[0] == 610)\n",
        "  assert(M.shape[1] == 9724)\n",
        "  assert(M.dtype == 'float64')\n",
        "  assert(M[0][0] == 4)\n",
        "  assert(M[0][1] == -1)\n",
        "  print(\"Matrix passes basic data processing checks.\")\n",
        "\n",
        "check_data_processing(ratings_matrix_processed)"
      ]
    },
    {
      "cell_type": "markdown",
      "metadata": {
        "id": "iO1yeIBZOTzg"
      },
      "source": [
        "In the next cell, we provide the last data processing step.\n",
        "\n",
        "We create an observed matrix called `rankings_observed` that stores a 1 where we have user ratings and a 0 otherwise.\n"
      ]
    },
    {
      "cell_type": "code",
      "execution_count": null,
      "metadata": {
        "id": "RVDlcltAOVRV"
      },
      "outputs": [],
      "source": [
        "# Create the observed matrix with 1s where we have user ratings for a given movie and 0s otherwise\n",
        "rankings_observed = np.where(ratings_matrix_processed == -1, 0, 1)"
      ]
    },
    {
      "cell_type": "markdown",
      "metadata": {
        "id": "0XVpumGoOcrq"
      },
      "source": [
        "<hr style=\"border:3px solid blue\"> </hr>\n",
        "\n",
        "\n",
        "## Act 8: Run LORMA on the MovieLens dataset (10 pts)\n",
        "\n",
        "Implement the following in the next code block:\n",
        "1. Save a normalized version of the MovieLens data using `get_normalized_matrix`.\n",
        "2. Define the parameters for LORMA (use rank = 40, epochs = 2000, eta = 10.0 for all epochs)\n",
        "3. Run LORMA using the `lorma_learn` function\n",
        "4. Plot losses to make sure they are decreasing.\n",
        "\n",
        "**Hint:** Look at the function definition for `check_lorma_learn` for sample code on how to do steps 2-3.\n",
        "\n",
        "**Note:** Running LORMA for 2000 epochs on the MovieLens dataset will take ~10 minutes in Colab."
      ]
    },
    {
      "cell_type": "code",
      "execution_count": null,
      "metadata": {
        "colab": {
          "base_uri": "https://localhost:8080/",
          "height": 1000
        },
        "id": "2HB_N-VaOc-d",
        "outputId": "52b06d81-d635-44c2-9c15-afd6aa6563be"
      },
      "outputs": [
        {
          "name": "stdout",
          "output_type": "stream",
          "text": [
            "Epoch 0 : 1.0242\n",
            "Epoch 10 : 1.015\n",
            "Epoch 20 : 1.0066\n",
            "Epoch 30 : 0.9988\n",
            "Epoch 40 : 0.9913\n",
            "Epoch 50 : 0.984\n",
            "Epoch 60 : 0.9768\n",
            "Epoch 70 : 0.9695\n",
            "Epoch 80 : 0.9621\n",
            "Epoch 90 : 0.9543\n",
            "Epoch 100 : 0.9461\n",
            "Epoch 110 : 0.9373\n",
            "Epoch 120 : 0.9279\n",
            "Epoch 130 : 0.9177\n",
            "Epoch 140 : 0.9064\n",
            "Epoch 150 : 0.8942\n",
            "Epoch 160 : 0.8808\n",
            "Epoch 170 : 0.8662\n",
            "Epoch 180 : 0.8505\n",
            "Epoch 190 : 0.8337\n",
            "Epoch 200 : 0.816\n",
            "Epoch 210 : 0.7977\n",
            "Epoch 220 : 0.7788\n",
            "Epoch 230 : 0.7598\n",
            "Epoch 240 : 0.7407\n",
            "Epoch 250 : 0.7217\n",
            "Epoch 260 : 0.7031\n",
            "Epoch 270 : 0.6848\n",
            "Epoch 280 : 0.6669\n",
            "Epoch 290 : 0.6496\n",
            "Epoch 300 : 0.6328\n",
            "Epoch 310 : 0.6165\n",
            "Epoch 320 : 0.6008\n",
            "Epoch 330 : 0.5857\n",
            "Epoch 340 : 0.5711\n",
            "Epoch 350 : 0.5571\n",
            "Epoch 360 : 0.5436\n",
            "Epoch 370 : 0.5306\n",
            "Epoch 380 : 0.5182\n",
            "Epoch 390 : 0.5061\n",
            "Epoch 400 : 0.4946\n",
            "Epoch 410 : 0.4834\n",
            "Epoch 420 : 0.4726\n",
            "Epoch 430 : 0.4622\n",
            "Epoch 440 : 0.4521\n",
            "Epoch 450 : 0.4424\n",
            "Epoch 460 : 0.433\n",
            "Epoch 470 : 0.4239\n",
            "Epoch 480 : 0.4151\n",
            "Epoch 490 : 0.4065\n",
            "Epoch 500 : 0.3982\n",
            "Epoch 510 : 0.3902\n",
            "Epoch 520 : 0.3824\n",
            "Epoch 530 : 0.3748\n",
            "Epoch 540 : 0.3675\n",
            "Epoch 550 : 0.3603\n",
            "Epoch 560 : 0.3534\n",
            "Epoch 570 : 0.3466\n",
            "Epoch 580 : 0.3401\n",
            "Epoch 590 : 0.3337\n",
            "Epoch 600 : 0.3275\n",
            "Epoch 610 : 0.3214\n",
            "Epoch 620 : 0.3156\n",
            "Epoch 630 : 0.3099\n",
            "Epoch 640 : 0.3043\n",
            "Epoch 650 : 0.2989\n",
            "Epoch 660 : 0.2937\n",
            "Epoch 670 : 0.2886\n",
            "Epoch 680 : 0.2836\n",
            "Epoch 690 : 0.2787\n",
            "Epoch 700 : 0.274\n",
            "Epoch 710 : 0.2694\n",
            "Epoch 720 : 0.265\n",
            "Epoch 730 : 0.2606\n",
            "Epoch 740 : 0.2564\n",
            "Epoch 750 : 0.2523\n",
            "Epoch 760 : 0.2482\n",
            "Epoch 770 : 0.2443\n",
            "Epoch 780 : 0.2405\n",
            "Epoch 790 : 0.2368\n",
            "Epoch 800 : 0.2332\n",
            "Epoch 810 : 0.2297\n",
            "Epoch 820 : 0.2262\n",
            "Epoch 830 : 0.2229\n",
            "Epoch 840 : 0.2196\n",
            "Epoch 850 : 0.2164\n",
            "Epoch 860 : 0.2133\n",
            "Epoch 870 : 0.2103\n",
            "Epoch 880 : 0.2074\n",
            "Epoch 890 : 0.2045\n",
            "Epoch 900 : 0.2017\n",
            "Epoch 910 : 0.199\n",
            "Epoch 920 : 0.1963\n",
            "Epoch 930 : 0.1937\n",
            "Epoch 940 : 0.1911\n",
            "Epoch 950 : 0.1887\n",
            "Epoch 960 : 0.1862\n",
            "Epoch 970 : 0.1839\n",
            "Epoch 980 : 0.1816\n",
            "Epoch 990 : 0.1793\n",
            "Epoch 1000 : 0.1771\n",
            "Epoch 1010 : 0.1749\n",
            "Epoch 1020 : 0.1728\n",
            "Epoch 1030 : 0.1708\n",
            "Epoch 1040 : 0.1688\n",
            "Epoch 1050 : 0.1668\n",
            "Epoch 1060 : 0.1649\n",
            "Epoch 1070 : 0.163\n",
            "Epoch 1080 : 0.1612\n",
            "Epoch 1090 : 0.1594\n",
            "Epoch 1100 : 0.1576\n",
            "Epoch 1110 : 0.1559\n",
            "Epoch 1120 : 0.1542\n",
            "Epoch 1130 : 0.1526\n",
            "Epoch 1140 : 0.151\n",
            "Epoch 1150 : 0.1494\n",
            "Epoch 1160 : 0.1478\n",
            "Epoch 1170 : 0.1463\n",
            "Epoch 1180 : 0.1449\n",
            "Epoch 1190 : 0.1434\n",
            "Epoch 1200 : 0.142\n",
            "Epoch 1210 : 0.1406\n",
            "Epoch 1220 : 0.1392\n",
            "Epoch 1230 : 0.1379\n",
            "Epoch 1240 : 0.1366\n",
            "Epoch 1250 : 0.1353\n",
            "Epoch 1260 : 0.134\n",
            "Epoch 1270 : 0.1328\n",
            "Epoch 1280 : 0.1316\n",
            "Epoch 1290 : 0.1304\n",
            "Epoch 1300 : 0.1292\n",
            "Epoch 1310 : 0.1281\n",
            "Epoch 1320 : 0.127\n",
            "Epoch 1330 : 0.1259\n",
            "Epoch 1340 : 0.1248\n",
            "Epoch 1350 : 0.1237\n",
            "Epoch 1360 : 0.1227\n",
            "Epoch 1370 : 0.1217\n",
            "Epoch 1380 : 0.1207\n",
            "Epoch 1390 : 0.1197\n",
            "Epoch 1400 : 0.1187\n",
            "Epoch 1410 : 0.1177\n",
            "Epoch 1420 : 0.1168\n",
            "Epoch 1430 : 0.1159\n",
            "Epoch 1440 : 0.115\n",
            "Epoch 1450 : 0.1141\n",
            "Epoch 1460 : 0.1132\n",
            "Epoch 1470 : 0.1124\n",
            "Epoch 1480 : 0.1115\n",
            "Epoch 1490 : 0.1107\n",
            "Epoch 1500 : 0.1099\n",
            "Epoch 1510 : 0.1091\n",
            "Epoch 1520 : 0.1083\n",
            "Epoch 1530 : 0.1075\n",
            "Epoch 1540 : 0.1068\n",
            "Epoch 1550 : 0.106\n",
            "Epoch 1560 : 0.1053\n",
            "Epoch 1570 : 0.1045\n",
            "Epoch 1580 : 0.1038\n",
            "Epoch 1590 : 0.1031\n",
            "Epoch 1600 : 0.1024\n",
            "Epoch 1610 : 0.1017\n",
            "Epoch 1620 : 0.1011\n",
            "Epoch 1630 : 0.1004\n",
            "Epoch 1640 : 0.0997\n",
            "Epoch 1650 : 0.0991\n",
            "Epoch 1660 : 0.0985\n",
            "Epoch 1670 : 0.0978\n",
            "Epoch 1680 : 0.0972\n",
            "Epoch 1690 : 0.0966\n",
            "Epoch 1700 : 0.096\n",
            "Epoch 1710 : 0.0954\n",
            "Epoch 1720 : 0.0949\n",
            "Epoch 1730 : 0.0943\n",
            "Epoch 1740 : 0.0937\n",
            "Epoch 1750 : 0.0932\n",
            "Epoch 1760 : 0.0926\n",
            "Epoch 1770 : 0.0921\n",
            "Epoch 1780 : 0.0916\n",
            "Epoch 1790 : 0.091\n",
            "Epoch 1800 : 0.0905\n",
            "Epoch 1810 : 0.09\n",
            "Epoch 1820 : 0.0895\n",
            "Epoch 1830 : 0.089\n",
            "Epoch 1840 : 0.0885\n",
            "Epoch 1850 : 0.088\n",
            "Epoch 1860 : 0.0876\n",
            "Epoch 1870 : 0.0871\n",
            "Epoch 1880 : 0.0866\n",
            "Epoch 1890 : 0.0862\n",
            "Epoch 1900 : 0.0857\n",
            "Epoch 1910 : 0.0853\n",
            "Epoch 1920 : 0.0848\n",
            "Epoch 1930 : 0.0844\n",
            "Epoch 1940 : 0.084\n",
            "Epoch 1950 : 0.0835\n",
            "Epoch 1960 : 0.0831\n",
            "Epoch 1970 : 0.0827\n",
            "Epoch 1980 : 0.0823\n",
            "Epoch 1990 : 0.0819\n",
            "1\n"
          ]
        },
        {
          "data": {
            "image/png": "[encoded data removed]",
            "text/plain": [
              "<Figure size 640x480 with 1 Axes>"
            ]
          },
          "metadata": {},
          "output_type": "display_data"
        }
      ],
      "source": [
        "\"\"\"\n",
        "Act 8: Run LORMA on the MovieLens dataset.\n",
        "\"\"\"\n",
        "rand_seed = 10\n",
        "np.random.seed(rand_seed)\n",
        "\n",
        "# 1. Normalize the copied matrix\n",
        "rankings_matrix_normalized = get_normalized_matrix(ratings_matrix_processed, rankings_observed)###\n",
        "\n",
        "# 2. Define the parameters for LORMA\n",
        "###\n",
        "k = 40\n",
        "num_epochs = 2000\n",
        "etas = np.zeros(num_epochs)\n",
        "etas += 10\n",
        "params = k, num_epochs, etas\n",
        "\n",
        "# 3. Run LORMA using the lorma_learn function\n",
        "A, B, losses = lorma_learn(rankings_matrix_normalized,rankings_observed,params)\n",
        "\n",
        "# 4. Plot the losses to make sure they are decreasing (given)\n",
        "_ = plt.plot(losses, '-o')\n"
      ]
    },
    {
      "cell_type": "markdown",
      "metadata": {
        "id": "EfsFqwI5OpDP"
      },
      "source": [
        "Predicting Movie Preferences\n",
        "\n",
        "In this final section, we'll analyze the movie preferences and predicted ratings for 3 users in our dataset (user 1, 13, and 111).\n"
      ]
    },
    {
      "cell_type": "markdown",
      "metadata": {
        "id": "yRr1OFXhOvsy"
      },
      "source": [
        "Loading movie information dataset\n",
        "\n",
        "Credits: [MovieLens GitHub](https://github.com/khanhnamle1994/movielens/blob/master/movies.csv)"
      ]
    },
    {
      "cell_type": "code",
      "execution_count": null,
      "metadata": {
        "colab": {
          "base_uri": "https://localhost:8080/",
          "height": 206
        },
        "id": "InDK7VayOpS3",
        "outputId": "bf2442d0-1f61-421a-e3f7-639bd40b5572"
      },
      "outputs": [
        {
          "data": {
            "text/html": [
              "<div>\n",
              "<style scoped>\n",
              "    .dataframe tbody tr th:only-of-type {\n",
              "        vertical-align: middle;\n",
              "    }\n",
              "\n",
              "    .dataframe tbody tr th {\n",
              "        vertical-align: top;\n",
              "    }\n",
              "\n",
              "    .dataframe thead th {\n",
              "        text-align: right;\n",
              "    }\n",
              "</style>\n",
              "<table border=\"1\" class=\"dataframe\">\n",
              "  <thead>\n",
              "    <tr style=\"text-align: right;\">\n",
              "      <th></th>\n",
              "      <th>movieId</th>\n",
              "      <th>title</th>\n",
              "      <th>genres</th>\n",
              "    </tr>\n",
              "  </thead>\n",
              "  <tbody>\n",
              "    <tr>\n",
              "      <th>0</th>\n",
              "      <td>0</td>\n",
              "      <td>Toy Story (1995)</td>\n",
              "      <td>Adventure|Animation|Children|Comedy|Fantasy</td>\n",
              "    </tr>\n",
              "    <tr>\n",
              "      <th>1</th>\n",
              "      <td>1</td>\n",
              "      <td>Jumanji (1995)</td>\n",
              "      <td>Adventure|Children|Fantasy</td>\n",
              "    </tr>\n",
              "    <tr>\n",
              "      <th>2</th>\n",
              "      <td>2</td>\n",
              "      <td>Grumpier Old Men (1995)</td>\n",
              "      <td>Comedy|Romance</td>\n",
              "    </tr>\n",
              "    <tr>\n",
              "      <th>3</th>\n",
              "      <td>3</td>\n",
              "      <td>Waiting to Exhale (1995)</td>\n",
              "      <td>Comedy|Drama|Romance</td>\n",
              "    </tr>\n",
              "    <tr>\n",
              "      <th>4</th>\n",
              "      <td>4</td>\n",
              "      <td>Father of the Bride Part II (1995)</td>\n",
              "      <td>Comedy</td>\n",
              "    </tr>\n",
              "  </tbody>\n",
              "</table>\n",
              "</div>"
            ],
            "text/plain": [
              "   movieId                               title  \\\n",
              "0        0                    Toy Story (1995)   \n",
              "1        1                      Jumanji (1995)   \n",
              "2        2             Grumpier Old Men (1995)   \n",
              "3        3            Waiting to Exhale (1995)   \n",
              "4        4  Father of the Bride Part II (1995)   \n",
              "\n",
              "                                        genres  \n",
              "0  Adventure|Animation|Children|Comedy|Fantasy  \n",
              "1                   Adventure|Children|Fantasy  \n",
              "2                               Comedy|Romance  \n",
              "3                         Comedy|Drama|Romance  \n",
              "4                                       Comedy  "
            ]
          },
          "execution_count": 75,
          "metadata": {},
          "output_type": "execute_result"
        }
      ],
      "source": [
        "# Load the movies\n",
        "# The data consists of rows which are movie IDs\n",
        "movie_info_path = 'movies.csv'\n",
        "movie_info_df = pd.read_csv(movie_info_path)# loads the dataset as a Pandas dataframe\n",
        "movie_info_df[:5]# displays first 5 rows of dataframe"
      ]
    },
    {
      "cell_type": "markdown",
      "metadata": {
        "id": "lZz54nyNOx5_"
      },
      "source": [
        "User Analysis\n",
        "\n",
        "In the next cell, we'll analyze the user data for 3 specific users.\n",
        "\n",
        "For each of the 3 users, we first compute the top `p` (i.e. top 10) movies that were most highly rated by that user.\n",
        "\n",
        "Then, in the inner for loop (`for movie in top_p`), store the movie title, user rating, and movie genre in their respective variables. Finally, we'll print out that information for the top `p` movies for that user.\n"
      ]
    },
    {
      "cell_type": "code",
      "execution_count": null,
      "metadata": {
        "id": "IOghAqLNVKEO",
        "outputId": "b23e96c8-f708-495b-ae9d-014e8a0ffcb6"
      },
      "outputs": [
        {
          "name": "stdout",
          "output_type": "stream",
          "text": [
            "\n",
            "User 1 liked the following:\n",
            "\n",
            "\tThe Jinx: The Life and Deaths of Robert Durst (2015) rated 5.0  genres Documentary                   \n",
            "\tMad Max: Fury Road (2015)                          rated 5.0  genres Action|Adventure|Sci-Fi|Thriller\n",
            "\tWolf of Wall Street, The (2013)                    rated 5.0  genres Comedy|Crime|Drama            \n",
            "\tWarrior (2011)                                     rated 5.0  genres Drama                         \n",
            "\tInside Job (2010)                                  rated 5.0  genres Documentary                   \n",
            "\tStep Brothers (2008)                               rated 5.0  genres Comedy                        \n",
            "\tInglourious Basterds (2009)                        rated 4.5  genres Action|Drama|War              \n",
            "\tTown, The (2010)                                   rated 4.5  genres Crime|Drama|Thriller          \n",
            "\tGood Will Hunting (1997)                           rated 4.5  genres Drama|Romance                 \n",
            "\tDark Knight, The (2008)                            rated 4.5  genres Action|Crime|Drama|IMAX       \n",
            "\n",
            "User 13 liked the following:\n",
            "\n",
            "\tSeven (a.k.a. Se7en) (1995)                        rated 5.0  genres Mystery|Thriller              \n",
            "\tWhat's Eating Gilbert Grape (1993)                 rated 5.0  genres Drama                         \n",
            "\tPiano, The (1993)                                  rated 5.0  genres Drama|Romance                 \n",
            "\tLegends of the Fall (1994)                         rated 5.0  genres Drama|Romance|War|Western     \n",
            "\tBraveheart (1995)                                  rated 5.0  genres Action|Drama|War              \n",
            "\tBroken Arrow (1996)                                rated 5.0  genres Action|Adventure|Thriller     \n",
            "\tNell (1994)                                        rated 5.0  genres Drama                         \n",
            "\tLeaving Las Vegas (1995)                           rated 4.0  genres Drama|Romance                 \n",
            "\tForrest Gump (1994)                                rated 4.0  genres Comedy|Drama|Romance|War      \n",
            "\tCliffhanger (1993)                                 rated 4.0  genres Action|Adventure|Thriller     \n",
            "\n",
            "User 111 liked the following:\n",
            "\n",
            "\tTwelve Monkeys (a.k.a. 12 Monkeys) (1995)          rated 5.0  genres Mystery|Sci-Fi|Thriller       \n",
            "\tInterstellar (2014)                                rated 5.0  genres Sci-Fi|IMAX                   \n",
            "\tDark Knight Rises, The (2012)                      rated 5.0  genres Action|Adventure|Crime|IMAX   \n",
            "\tLord of the Rings: The Fellowship of the Ring, The (2001) rated 5.0  genres Adventure|Fantasy             \n",
            "\tUsual Suspects, The (1995)                         rated 5.0  genres Crime|Mystery|Thriller        \n",
            "\tSaving Private Ryan (1998)                         rated 5.0  genres Action|Drama|War              \n",
            "\tArmageddon (1998)                                  rated 5.0  genres Action|Romance|Sci-Fi|Thriller\n",
            "\tRaiders of the Lost Ark (Indiana Jones and the Raiders of the Lost Ark) (1981) rated 5.0  genres Action|Adventure              \n",
            "\tGreen Mile, The (1999)                             rated 5.0  genres Crime|Drama                   \n",
            "\tMatrix, The (1999)                                 rated 5.0  genres Action|Sci-Fi|Thriller        \n"
          ]
        }
      ],
      "source": [
        "\n",
        "# Pick three users to recommend movies to\n",
        "users = [1, 13, 111]\n",
        "\n",
        "# Let's see their tastes. Print the top-p movies they have rated highly\n",
        "p = 10\n",
        "\n",
        "# obtain the movie ids corresponding to the columns in `ratings_matrix_processed`\n",
        "movie_ids = ratings_matrix_df.columns\n",
        "\n",
        "\n",
        "\n",
        "for user in users:\n",
        "    print(f\"\\nUser {user} liked the following:\\n\")\n",
        "\n",
        "    # Sort the movies for this user in descending order based on the rating\n",
        "    movie_order = np.argsort(-ratings_matrix_processed[user])\n",
        "    top_p = movie_order[:p]\n",
        "\n",
        "    # Print the top p movies\n",
        "    for movie in top_p:\n",
        "        # Obtain the movie title, user rating, and movie genre\n",
        "\n",
        "        movie_id = movie_ids[movie]\n",
        "        movie_info = movie_info_df.loc[movie_info_df['movieId']==movie_id]\n",
        "        movie_title = movie_info['title'].squeeze()\n",
        "        user_rating = ratings_matrix_processed[user,movie]\n",
        "        movie_genre = movie_info['genres'].squeeze()\n",
        "        print(\"\\t{:<50} rated {:.1f}  genres {:<30}\".format(\n",
        "           movie_title, user_rating, movie_genre))\n",
        "\n",
        "\n"
      ]
    },
    {
      "cell_type": "markdown",
      "metadata": {
        "id": "e_nxDiUWO8ah"
      },
      "source": [
        "Recommended Movies\n",
        "\n",
        "In the next cell, we'll print out the top `p` (i.e. top 10) movies that are predicted for the 3 users we're studying.\n",
        "\n",
        "For each of the 3 users, we first compute the predicted ratings for that user and save the top `p` predicted movies in descending order (we set the ratings for observed movies to -infinity so that we only save the top `p` movies that haven't been rated by the user).\n",
        "\n",
        "Then, in the inner for loop (`for movie in top_p`), store the movie title and movie genre"
      ]
    },
    {
      "cell_type": "code",
      "execution_count": null,
      "metadata": {
        "colab": {
          "base_uri": "https://localhost:8080/"
        },
        "id": "s7zXgq_JO_XL",
        "outputId": "f98a5d7b-df28-4423-9b54-fe68893b41fc"
      },
      "outputs": [
        {
          "name": "stdout",
          "output_type": "stream",
          "text": [
            "\n",
            "Recommend the following movies to User 1\n",
            "\n",
            "\tLife Is Beautiful (La Vita è bella) (1997)                   genres Comedy|Drama|Romance|War      \n",
            "\tRumble in the Bronx (Hont faan kui) (1995)                   genres Action|Adventure|Comedy|Crime \n",
            "\tRobin Hood: Men in Tights (1993)                             genres Comedy                        \n",
            "\tMillion Dollar Baby (2004)                                   genres Drama                         \n",
            "\tClueless (1995)                                              genres Comedy|Romance                \n",
            "\tWallace & Gromit: The Best of Aardman Animation (1996)       genres Adventure|Animation|Comedy    \n",
            "\tLeaving Las Vegas (1995)                                     genres Drama|Romance                 \n",
            "\tPatton (1970)                                                genres Drama|War                     \n",
            "\tBeavis and Butt-Head Do America (1996)                       genres Adventure|Animation|Comedy|Crime\n",
            "\tOld Boy (2003)                                               genres Mystery|Thriller              \n",
            "\n",
            "Recommend the following movies to User 13\n",
            "\n",
            "\tFinal Destination (2000)                                     genres Drama|Thriller                \n",
            "\tHouse of Wax (2005)                                          genres Horror|Thriller               \n",
            "\tCasino (1995)                                                genres Crime|Drama                   \n",
            "\tApt Pupil (1998)                                             genres Drama|Thriller                \n",
            "\tFarewell My Concubine (Ba wang bie ji) (1993)                genres Drama|Romance                 \n",
            "\tCircle of Friends (1995)                                     genres Drama|Romance                 \n",
            "\tQuiet Man, The (1952)                                        genres Drama|Romance                 \n",
            "\tStar Wars: Episode VII - The Force Awakens (2015)            genres Action|Adventure|Fantasy|Sci-Fi|IMAX\n",
            "\tSmoke (1995)                                                 genres Comedy|Drama                  \n",
            "\tFrench Kiss (1995)                                           genres Action|Comedy|Romance         \n",
            "\n",
            "Recommend the following movies to User 111\n",
            "\n",
            "\tLock, Stock & Two Smoking Barrels (1998)                     genres Comedy|Crime|Thriller         \n",
            "\tYes Man (2008)                                               genres Comedy                        \n",
            "\tThing, The (1982)                                            genres Action|Horror|Sci-Fi|Thriller \n",
            "\tShawshank Redemption, The (1994)                             genres Crime|Drama                   \n",
            "\tWolf of Wall Street, The (2013)                              genres Comedy|Crime|Drama            \n",
            "\tFrankenstein (1931)                                          genres Drama|Horror|Sci-Fi           \n",
            "\tEastern Promises (2007)                                      genres Crime|Drama|Thriller          \n",
            "\tCoco (2017)                                                  genres Adventure|Animation|Children  \n",
            "\tMoon (2009)                                                  genres Drama|Mystery|Sci-Fi|Thriller \n",
            "\tZed & Two Noughts, A (1985)                                  genres Drama                         \n"
          ]
        }
      ],
      "source": [
        "\n",
        "\n",
        "for user in users:\n",
        "    print(f\"\\nRecommend the following movies to User {user}\\n\")\n",
        "\n",
        "    # Predict the rating for these movies by performing a matrix multiplication between the user and movie vectors\n",
        "    predicted_ratings = A[user,:] @ B\n",
        "\n",
        "    # If the movie review was observed in the matrix, set it to (-infinity) so that we don't predict it\n",
        "    # We want to predict only from a set of movies which the user has not seen\n",
        "    predicted_ratings[rankings_observed[user] == 1] = -np.inf\n",
        "\n",
        "    # Choose the top_p movies\n",
        "    predicted_movie_order = np.argsort(-predicted_ratings)\n",
        "    top_p = predicted_movie_order[:p]\n",
        "\n",
        "    # Print the recommended movies\n",
        "    for movie in top_p:\n",
        "      movie_id = movie_ids[movie]\n",
        "      movie_info = movie_info_df.loc[movie_info_df['movieId']== movie_id]\n",
        "      movie_title = movie_info['title'].squeeze()\n",
        "      movie_genre = movie_info['genres'].squeeze()\n",
        "      user_rating = predicted_ratings[movie]\n",
        "      print(\"\\t{:<60} genres {:<30}\".format(movie_title[:60], # cap length of movie title to 60 char\n",
        "                                            movie_genre))"
      ]
    }
  ],
  "metadata": {
    "colab": {
      "provenance": []
    },
    "kernelspec": {
      "display_name": "Python 3 (ipykernel)",
      "language": "python",
      "name": "python3"
    },
    "language_info": {
      "codemirror_mode": {
        "name": "ipython",
        "version": 3
      },
      "file_extension": ".py",
      "mimetype": "text/x-python",
      "name": "python",
      "nbconvert_exporter": "python",
      "pygments_lexer": "ipython3",
      "version": "3.12.2"
    }
  },
  "nbformat": 4,
  "nbformat_minor": 0
}